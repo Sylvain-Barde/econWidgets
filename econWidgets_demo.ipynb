{
 "cells": [
  {
   "cell_type": "code",
   "execution_count": 1,
   "id": "1b0bffc5",
   "metadata": {},
   "outputs": [],
   "source": [
    "import numpy as np\n",
    "from econwidgets import (linear_widget, \n",
    "                         system_widget, \n",
    "                         quadratic_widget, \n",
    "                         logarithm_widget, \n",
    "                         exponential_widget,\n",
    "                         inverse_widget,\n",
    "                         quadratic_slope_widget,\n",
    "                         derivative_widget,\n",
    "                         multivar_widget,\n",
    "                         matrix_widget,\n",
    "                         taylor_widget,\n",
    "                         utility_widget,\n",
    "                         elasticities_widget,\n",
    "                         slope_from_elasticities_widget,\n",
    "                         tax_widget,\n",
    "                         uk_IO_widget,\n",
    "                         total_revenue_widget,\n",
    "                         compound_interest_widget,\n",
    "                         log_demand_widget,\n",
    "                         profit_maximisation_widget,\n",
    "                         plot_income_widget,\n",
    "                         plot_dist_widget,\n",
    "                         plot_hist_widget,\n",
    "                         throw_dice_widget,\n",
    "                         tree_widget,\n",
    "                         birthday_widget,\n",
    "                         norm_area_widget,\n",
    "                         norm_binom_approx_widget,\n",
    "                         clt_illustration_widget,\n",
    "                         bias_variance_widget,\n",
    "                         t_area_widget,\n",
    "                         hypothesis_test_widget,\n",
    "                         error_type_widget,\n",
    "                         error_tradeoff_widget,\n",
    "                         scatter_plot_widget)"
   ]
  },
  {
   "cell_type": "markdown",
   "id": "2fe5a42a",
   "metadata": {},
   "source": [
    "### Mathematics widgets\n",
    "\n",
    "#### linear_widget\n",
    "\n",
    "Draws a linear function\n"
   ]
  },
  {
   "cell_type": "code",
   "execution_count": 2,
   "id": "893ebfa0",
   "metadata": {},
   "outputs": [
    {
     "data": {
      "application/vnd.jupyter.widget-view+json": {
       "model_id": "46007ac1e18c4164aaa6c5475915a79b",
       "version_major": 2,
       "version_minor": 0
      },
      "text/plain": [
       "VBox(children=(Output(), HBox(children=(IntSlider(value=16, description='Max. $x$:', min=5), IntSlider(value=1…"
      ]
     },
     "metadata": {},
     "output_type": "display_data"
    }
   ],
   "source": [
    "linear_widget(xMax_init = 16, yMax_init = 16, a_init = 0, b_init = 0, Aflag_init = True, \n",
    "                  xA_init = -3, yA_init = -14, Bflag_init = True, xB_init = 5, yB_init = 10, \n",
    "                  eqFlag1_init = False, eqFlag2_init = False)"
   ]
  },
  {
   "cell_type": "markdown",
   "id": "e8a91d2d",
   "metadata": {},
   "source": [
    "#### system_widget\n",
    "\n",
    "Draws a System of two linear equations (e.g. demand/supply)\n"
   ]
  },
  {
   "cell_type": "code",
   "execution_count": 3,
   "id": "db46ee9c",
   "metadata": {},
   "outputs": [
    {
     "data": {
      "application/vnd.jupyter.widget-view+json": {
       "model_id": "c14a9628cb83434e874b6cf4f4d0fa01",
       "version_major": 2,
       "version_minor": 0
      },
      "text/plain": [
       "VBox(children=(Output(), HBox(children=(IntSlider(value=15, description='Max. $x$:', min=5), IntSlider(value=1…"
      ]
     },
     "metadata": {},
     "output_type": "display_data"
    }
   ],
   "source": [
    "system_widget(xMax_init = 15, yMax_init = 15, a_init = 4, b_init = 6, c_init = 38, \n",
    "                  d_init = -2, e_init = 2, f_init = -4)"
   ]
  },
  {
   "cell_type": "markdown",
   "id": "44356bc1",
   "metadata": {},
   "source": [
    "#### quadratic_widget\n",
    "\n",
    "Draws a quadratic $ax^2 + bx+c$ given parameters $a,b,c$\n"
   ]
  },
  {
   "cell_type": "code",
   "execution_count": 4,
   "id": "2f4bb010",
   "metadata": {},
   "outputs": [
    {
     "data": {
      "application/vnd.jupyter.widget-view+json": {
       "model_id": "85c9e9cdcd974780946e79335dccd96f",
       "version_major": 2,
       "version_minor": 0
      },
      "text/plain": [
       "VBox(children=(Output(), HBox(children=(IntSlider(value=15, description='Max. $x$:', min=5), IntSlider(value=1…"
      ]
     },
     "metadata": {},
     "output_type": "display_data"
    }
   ],
   "source": [
    "quadratic_widget()"
   ]
  },
  {
   "cell_type": "markdown",
   "id": "96fef060",
   "metadata": {},
   "source": [
    "#### logarithm_widget\n",
    "\n",
    "Draws a logarithm plot given a choice of base"
   ]
  },
  {
   "cell_type": "code",
   "execution_count": 5,
   "id": "8b097d5c",
   "metadata": {},
   "outputs": [
    {
     "data": {
      "application/vnd.jupyter.widget-view+json": {
       "model_id": "46744a93c251404dbc4c4fe245146290",
       "version_major": 2,
       "version_minor": 0
      },
      "text/plain": [
       "VBox(children=(Output(), HBox(children=(IntSlider(value=5, description='Max. $x$:', max=1000000), IntSlider(va…"
      ]
     },
     "metadata": {},
     "output_type": "display_data"
    }
   ],
   "source": [
    "logarithm_widget()"
   ]
  },
  {
   "cell_type": "markdown",
   "id": "8288423d",
   "metadata": {},
   "source": [
    "#### exponential_widget\n",
    "\n",
    "Draws an exponential plot given a choice of base"
   ]
  },
  {
   "cell_type": "code",
   "execution_count": 6,
   "id": "3020b670",
   "metadata": {},
   "outputs": [
    {
     "data": {
      "application/vnd.jupyter.widget-view+json": {
       "model_id": "0aeae3f599e1433c98626eb58d601ff6",
       "version_major": 2,
       "version_minor": 0
      },
      "text/plain": [
       "VBox(children=(Output(), HBox(children=(IntSlider(value=10, description='Max. $x$:', max=50, min=1), IntSlider…"
      ]
     },
     "metadata": {},
     "output_type": "display_data"
    }
   ],
   "source": [
    "exponential_widget(xMax_init = 10, yMax_init = 1000, bases_init = ['2','None','None'])"
   ]
  },
  {
   "cell_type": "markdown",
   "id": "5fce3223",
   "metadata": {},
   "source": [
    "#### inverse_widget\n",
    "\n",
    "Draws an exponential and logarithm plot given a choice of base, to illustrate the fact they are each other's inverse"
   ]
  },
  {
   "cell_type": "code",
   "execution_count": 7,
   "id": "f55c16df",
   "metadata": {},
   "outputs": [
    {
     "data": {
      "application/vnd.jupyter.widget-view+json": {
       "model_id": "fbd6610552ef4082949da49f699b4643",
       "version_major": 2,
       "version_minor": 0
      },
      "text/plain": [
       "VBox(children=(Output(), HBox(children=(IntSlider(value=5, description='Max. $x$:', max=1000000), IntSlider(va…"
      ]
     },
     "metadata": {},
     "output_type": "display_data"
    }
   ],
   "source": [
    "inverse_widget()"
   ]
  },
  {
   "cell_type": "markdown",
   "id": "f3db5e15",
   "metadata": {},
   "source": [
    "#### quadratic_slope_widget\n",
    "\n",
    "Illustrate the calculation of slopes for non-linear functions in a quadratic setting"
   ]
  },
  {
   "cell_type": "code",
   "execution_count": 8,
   "id": "3fa1dc10",
   "metadata": {
    "scrolled": false
   },
   "outputs": [
    {
     "data": {
      "application/vnd.jupyter.widget-view+json": {
       "model_id": "3f71b37fa76b4aa2a7ae1bac0f7e2342",
       "version_major": 2,
       "version_minor": 0
      },
      "text/plain": [
       "VBox(children=(Output(), HBox(children=(IntSlider(value=10, continuous_update=False, description='Max. $x$:', …"
      ]
     },
     "metadata": {},
     "output_type": "display_data"
    }
   ],
   "source": [
    "quadratic_slope_widget()"
   ]
  },
  {
   "cell_type": "markdown",
   "id": "72bce4a5",
   "metadata": {},
   "source": [
    "#### derivative_widget\n",
    "\n",
    "Illustrates the first and second-order derivatives of a cubic, including turning points"
   ]
  },
  {
   "cell_type": "code",
   "execution_count": 9,
   "id": "730832e2",
   "metadata": {},
   "outputs": [
    {
     "data": {
      "application/vnd.jupyter.widget-view+json": {
       "model_id": "6957040e7bd545d3b0039237a884332b",
       "version_major": 2,
       "version_minor": 0
      },
      "text/plain": [
       "VBox(children=(Output(), HBox(children=(IntSlider(value=-3, continuous_update=False, description='Min. $x$:', …"
      ]
     },
     "metadata": {},
     "output_type": "display_data"
    }
   ],
   "source": [
    "derivative_widget(xMin_init = -3, xMax_init = 3, yMin_init = -10, yMax_init = 10, areaFlag_init = True)"
   ]
  },
  {
   "cell_type": "markdown",
   "id": "9ada3e6d",
   "metadata": {},
   "source": [
    "#### multivar_widget\n",
    "\n",
    "3D plot of a bivariate function (sines, exponentials, true maximum/minimum, 2 different saddle points)"
   ]
  },
  {
   "cell_type": "code",
   "execution_count": 10,
   "id": "a46c0349",
   "metadata": {},
   "outputs": [
    {
     "data": {
      "application/vnd.jupyter.widget-view+json": {
       "model_id": "7f4927a4ed834b41aea3fed89ea6fdc5",
       "version_major": 2,
       "version_minor": 0
      },
      "text/plain": [
       "VBox(children=(Output(), Dropdown(description='function:', options=('sines', 'exps', 'min example', 'max examp…"
      ]
     },
     "metadata": {},
     "output_type": "display_data"
    }
   ],
   "source": [
    "multivar_widget(elev_init = 40, azim_init = 50, yCut_init = True)"
   ]
  },
  {
   "cell_type": "markdown",
   "id": "bc40cc80",
   "metadata": {},
   "source": [
    "#### multivar_widget\n",
    "\n",
    "3D plot of a bivariate function (sines, exponentials, true maximum/minimum, 2 different saddle points)"
   ]
  },
  {
   "cell_type": "code",
   "execution_count": 11,
   "id": "e3c5e03f",
   "metadata": {
    "scrolled": false
   },
   "outputs": [
    {
     "data": {
      "application/vnd.jupyter.widget-view+json": {
       "model_id": "324cf308f9e74ef88eeb2ca4aa675e1f",
       "version_major": 2,
       "version_minor": 0
      },
      "text/plain": [
       "VBox(children=(Output(), Dropdown(description='function:', options=('sines', 'exps', 'min example', 'max examp…"
      ]
     },
     "metadata": {},
     "output_type": "display_data"
    }
   ],
   "source": [
    "multivar_widget(elev_init = 40, azim_init = 50, yCut_init = True)"
   ]
  },
  {
   "cell_type": "markdown",
   "id": "6666c219",
   "metadata": {},
   "source": [
    "#### matrix_widget\n",
    "\n",
    "Geometric illustration of 2x2 matrices as transformations of 2D space"
   ]
  },
  {
   "cell_type": "code",
   "execution_count": 12,
   "id": "8a9d336a",
   "metadata": {
    "scrolled": false
   },
   "outputs": [
    {
     "data": {
      "application/vnd.jupyter.widget-view+json": {
       "model_id": "99063c6c0780453f978595a5644d0146",
       "version_major": 2,
       "version_minor": 0
      },
      "text/plain": [
       "VBox(children=(Output(), HBox(children=(IntSlider(value=10, description='Maximum $x$:', max=1000), IntSlider(v…"
      ]
     },
     "metadata": {},
     "output_type": "display_data"
    }
   ],
   "source": [
    "matrix_widget(A_base = [[0.7071,0.7071],[-0.7071,0.7071]], B_base = [[1,1.25],[0,1]],mode_init = 'AB')"
   ]
  },
  {
   "cell_type": "markdown",
   "id": "d7151579",
   "metadata": {},
   "source": [
    "#### taylor_widget\n",
    "\n",
    "Taylor expansion plot for sines, exponetial and logarithms."
   ]
  },
  {
   "cell_type": "code",
   "execution_count": 13,
   "id": "ecc71acb",
   "metadata": {},
   "outputs": [
    {
     "data": {
      "application/vnd.jupyter.widget-view+json": {
       "model_id": "d805c64eae9e4b72b687da9f0d9abecc",
       "version_major": 2,
       "version_minor": 0
      },
      "text/plain": [
       "VBox(children=(Output(), HBox(children=(FloatSlider(value=-2.0, continuous_update=False, description='Min $x$:…"
      ]
     },
     "metadata": {},
     "output_type": "display_data"
    }
   ],
   "source": [
    "taylor_widget(xMin_init = -2, xMax_init = 6, yMin_init = -4, yMax_init = 4, func_init = 'Logarithm', numTerms_init = 18)"
   ]
  },
  {
   "cell_type": "markdown",
   "id": "5d3c3415",
   "metadata": {},
   "source": [
    "### Economic application widgets\n",
    "\n",
    "#### utility_widget\n",
    "\n",
    "3D plot / 2D plot of a constrained optimisation problem"
   ]
  },
  {
   "cell_type": "code",
   "execution_count": 14,
   "id": "e563bfd6",
   "metadata": {
    "scrolled": false
   },
   "outputs": [
    {
     "data": {
      "application/vnd.jupyter.widget-view+json": {
       "model_id": "adccfce127ad4b4f8a684dace181ca1f",
       "version_major": 2,
       "version_minor": 0
      },
      "text/plain": [
       "VBox(children=(Output(), HBox(children=(Dropdown(description='function:', options=('CD',), value='CD'), FloatS…"
      ]
     },
     "metadata": {},
     "output_type": "display_data"
    }
   ],
   "source": [
    "utility_widget(a_init = 0.3, elev_init = 15, azim_init = 260, zCut_init = True, constraintCut_init = True)"
   ]
  },
  {
   "cell_type": "markdown",
   "id": "104ef15d",
   "metadata": {},
   "source": [
    "#### elsticities_widget\n",
    "\n",
    "Linear supply/demand diagram with elasticity calculation"
   ]
  },
  {
   "cell_type": "code",
   "execution_count": 15,
   "id": "a82dd5e3",
   "metadata": {},
   "outputs": [
    {
     "data": {
      "application/vnd.jupyter.widget-view+json": {
       "model_id": "a7d3007e592d4895b47ec15ce4d3150e",
       "version_major": 2,
       "version_minor": 0
      },
      "text/plain": [
       "VBox(children=(Output(), HBox(children=(FloatSlider(value=6.0, continuous_update=False, description='Pick a Qu…"
      ]
     },
     "metadata": {},
     "output_type": "display_data"
    }
   ],
   "source": [
    "elasticities_widget(Qmax_init = 15, Pmax_init = 30, Qval_init = 6, a_d_init = 0.5,\n",
    "    b_d_init = 22, a_s_init = 0.75, b_s_init = 10, Dflag_init = True, Sflag_init = True)"
   ]
  },
  {
   "cell_type": "markdown",
   "id": "31779ab5",
   "metadata": {},
   "source": [
    "#### slope_from_elasticities_widget\n",
    "\n",
    "Supply/demand diagram showing approximate supply/demand around equilibrium points given elasticities"
   ]
  },
  {
   "cell_type": "code",
   "execution_count": 16,
   "id": "764e8fe3",
   "metadata": {
    "scrolled": true
   },
   "outputs": [
    {
     "data": {
      "application/vnd.jupyter.widget-view+json": {
       "model_id": "8f086ed277784d57b0aa67e42de3fef5",
       "version_major": 2,
       "version_minor": 0
      },
      "text/plain": [
       "VBox(children=(Output(), HBox(children=(IntSlider(value=15, continuous_update=False, description='Maximum $Q$:…"
      ]
     },
     "metadata": {},
     "output_type": "display_data"
    }
   ],
   "source": [
    "slope_from_elasticities_widget()"
   ]
  },
  {
   "cell_type": "markdown",
   "id": "052e5c66",
   "metadata": {},
   "source": [
    "#### tax_widget\n",
    "\n",
    "Supply/demand diagram showing the impact of a flat tax, including tax revenue from producers/consumers and deadweight loss. Useful for showing how share of the tax burden depends on relative elasticities."
   ]
  },
  {
   "cell_type": "code",
   "execution_count": 17,
   "id": "6e12b2b3",
   "metadata": {},
   "outputs": [
    {
     "data": {
      "application/vnd.jupyter.widget-view+json": {
       "model_id": "7a1d639e20574de7b98ac867065b907d",
       "version_major": 2,
       "version_minor": 0
      },
      "text/plain": [
       "VBox(children=(Output(), HBox(children=(FloatSlider(value=10.0, continuous_update=False, description='Set tax …"
      ]
     },
     "metadata": {},
     "output_type": "display_data"
    }
   ],
   "source": [
    "tax_widget(Qmax_init = 10, Pmax_init = 30, Tval_init = 10, a_d_init = 1.5,\n",
    "    b_d_init = 25, a_s_init = 35, b_s_init = -175, Rflag_init = True, Lflag_init = True)"
   ]
  },
  {
   "cell_type": "markdown",
   "id": "641e94f9",
   "metadata": {},
   "source": [
    "#### uk_IO_widget\n",
    "\n",
    "Matrix-based analysis of shock propagation through the UK economiy, based on the ONS' 2017 input-output supply and use tables for the UK."
   ]
  },
  {
   "cell_type": "code",
   "execution_count": 18,
   "id": "a2e3357f",
   "metadata": {},
   "outputs": [
    {
     "data": {
      "application/vnd.jupyter.widget-view+json": {
       "model_id": "ccdd147b5d094f4b858c69f9bd615a7c",
       "version_major": 2,
       "version_minor": 0
      },
      "text/plain": [
       "VBox(children=(Output(), HBox(children=(Dropdown(description='Diagram:', options=('Shocks over time', 'Cumulat…"
      ]
     },
     "metadata": {},
     "output_type": "display_data"
    }
   ],
   "source": [
    "uk_IO_widget(shockSector_init = ['Financial and insurance', 'Professional and support activities'], \n",
    "             shockSign_init = 'Negative', shockSize_init = 25, NumRounds_init = 5, Normalise_init = False, \n",
    "                 plotType_init = 'Shocks over time')"
   ]
  },
  {
   "cell_type": "code",
   "execution_count": 19,
   "id": "d08685e2",
   "metadata": {
    "scrolled": false
   },
   "outputs": [
    {
     "data": {
      "application/vnd.jupyter.widget-view+json": {
       "model_id": "bc41d9e54f5f4246b35c88833f0587eb",
       "version_major": 2,
       "version_minor": 0
      },
      "text/plain": [
       "VBox(children=(Output(), HBox(children=(Dropdown(description='Diagram:', index=1, options=('Shocks over time',…"
      ]
     },
     "metadata": {},
     "output_type": "display_data"
    }
   ],
   "source": [
    "uk_IO_widget(shockSector_init = ['Financial and insurance', 'Professional and support activities'], \n",
    "             shockSign_init = 'Negative', shockSize_init = 25, NumRounds_init = 5, Normalise_init = False, \n",
    "                 plotType_init = 'Cumulative shocks')"
   ]
  },
  {
   "cell_type": "markdown",
   "id": "902bf6bd",
   "metadata": {},
   "source": [
    "#### total_revenue_widget\n",
    "\n",
    "plots total revenue as a quadratic for a linear demand curve"
   ]
  },
  {
   "cell_type": "code",
   "execution_count": 20,
   "id": "c022b6c9",
   "metadata": {
    "scrolled": true
   },
   "outputs": [
    {
     "data": {
      "application/vnd.jupyter.widget-view+json": {
       "model_id": "55f906fd05af44ddba5628ad299ba644",
       "version_major": 2,
       "version_minor": 0
      },
      "text/plain": [
       "VBox(children=(Output(), HBox(children=(IntSlider(value=15, continuous_update=False, description='Maximum $Q$:…"
      ]
     },
     "metadata": {},
     "output_type": "display_data"
    }
   ],
   "source": [
    "total_revenue_widget()"
   ]
  },
  {
   "cell_type": "markdown",
   "id": "5fee0c66",
   "metadata": {},
   "source": [
    "#### compound_interest_widget\n",
    "\n",
    "illustrates how compounding interest over shorter time-periods convergest to the exponential"
   ]
  },
  {
   "cell_type": "code",
   "execution_count": 21,
   "id": "c2a0f1a1",
   "metadata": {
    "scrolled": true
   },
   "outputs": [
    {
     "data": {
      "application/vnd.jupyter.widget-view+json": {
       "model_id": "46e803a91399429dbe395f6456422deb",
       "version_major": 2,
       "version_minor": 0
      },
      "text/plain": [
       "VBox(children=(Output(), HBox(children=(FloatSlider(value=0.0, continuous_update=False, description='Min $x$:'…"
      ]
     },
     "metadata": {},
     "output_type": "display_data"
    }
   ],
   "source": [
    "compound_interest_widget(numTermsStr_init = '1,4,10',expFlag_init = True)"
   ]
  },
  {
   "cell_type": "markdown",
   "id": "544bc1c5",
   "metadata": {},
   "source": [
    "#### log_demand_widget\n",
    "\n",
    "illustrates how isoelastic functions, which produce non-linear demand functions, are actually linear in logarithmic space"
   ]
  },
  {
   "cell_type": "code",
   "execution_count": 22,
   "id": "fc02bf7a",
   "metadata": {
    "scrolled": false
   },
   "outputs": [
    {
     "data": {
      "application/vnd.jupyter.widget-view+json": {
       "model_id": "9ead2d096be94bd8968e982b4bf31115",
       "version_major": 2,
       "version_minor": 0
      },
      "text/plain": [
       "VBox(children=(Output(), HBox(children=(IntSlider(value=10, continuous_update=False, description='Maximum $Q$:…"
      ]
     },
     "metadata": {},
     "output_type": "display_data"
    }
   ],
   "source": [
    "log_demand_widget()"
   ]
  },
  {
   "cell_type": "markdown",
   "id": "4518baec",
   "metadata": {},
   "source": [
    "#### profit_maximisation_widget\n",
    "\n",
    "illustrates profit maximisation using both the zero derivative of profit and using marginal revenue / marginal cost."
   ]
  },
  {
   "cell_type": "code",
   "execution_count": 23,
   "id": "01a2fede",
   "metadata": {
    "scrolled": true
   },
   "outputs": [
    {
     "data": {
      "application/vnd.jupyter.widget-view+json": {
       "model_id": "0df8cc4956f54289a5ea83b6b504daa4",
       "version_major": 2,
       "version_minor": 0
      },
      "text/plain": [
       "VBox(children=(Output(), HBox(children=(IntSlider(value=8, continuous_update=False, description='Maximum $Q$:'…"
      ]
     },
     "metadata": {},
     "output_type": "display_data"
    }
   ],
   "source": [
    "profit_maximisation_widget()"
   ]
  },
  {
   "cell_type": "markdown",
   "id": "7e270475",
   "metadata": {},
   "source": [
    "#### plot_income_widget\n",
    "\n",
    "Plots the empirical distribution of UK household income and provides descriptive statistics. Requires a CSV file containing the income brackets and counts (FY 2017 and 2020 provided)"
   ]
  },
  {
   "cell_type": "code",
   "execution_count": 24,
   "id": "24bb51ec",
   "metadata": {
    "scrolled": false
   },
   "outputs": [
    {
     "data": {
      "application/vnd.jupyter.widget-view+json": {
       "model_id": "d5534ef10edd4a898b44a03bd0a6d96c",
       "version_major": 2,
       "version_minor": 0
      },
      "text/plain": [
       "VBox(children=(Output(), HBox(children=(Checkbox(value=False, description='Show stats'), Checkbox(value=False,…"
      ]
     },
     "metadata": {},
     "output_type": "display_data"
    }
   ],
   "source": [
    "plot_income_widget(loc = 'assets/income2017.csv')"
   ]
  },
  {
   "cell_type": "markdown",
   "id": "974d5868",
   "metadata": {},
   "source": [
    "### Statistics widgets\n",
    "\n",
    "#### plot_dist_widget\n",
    "\n",
    "Plots Binonmial, Normal, Lognormal and Student t distribution, with descriptive statistics"
   ]
  },
  {
   "cell_type": "code",
   "execution_count": 25,
   "id": "b11e0f55",
   "metadata": {
    "scrolled": false
   },
   "outputs": [
    {
     "data": {
      "application/vnd.jupyter.widget-view+json": {
       "model_id": "b9619a4248e649349f210f36ffe39865",
       "version_major": 2,
       "version_minor": 0
      },
      "text/plain": [
       "VBox(children=(Output(), HBox(children=(VBox(children=(Dropdown(description='Distribution:', index=2, options=…"
      ]
     },
     "metadata": {},
     "output_type": "display_data"
    }
   ],
   "source": [
    "plot_dist_widget(\n",
    "    dist_1_init = 'Normal', d1_p1_init = 3, d1_p2_init = 0.5, d1_frmt_init = 'r-',\n",
    "    dist_2_init = 'Lognormal', d2_p1_init = 1, d2_p2_init = 0.4, d2_frmt_init = 'g--',\n",
    "    stats_init = False)"
   ]
  },
  {
   "cell_type": "markdown",
   "id": "a1bfb4c5",
   "metadata": {},
   "source": [
    "#### plot_hist_widget\n",
    "\n",
    "Plots a histogram of data, requires a CSV file with raw observations."
   ]
  },
  {
   "cell_type": "code",
   "execution_count": 26,
   "id": "c36a3048",
   "metadata": {
    "scrolled": false
   },
   "outputs": [
    {
     "data": {
      "application/vnd.jupyter.widget-view+json": {
       "model_id": "fd09f8d7066144a7a6af00f7013a7233",
       "version_major": 2,
       "version_minor": 0
      },
      "text/plain": [
       "VBox(children=(Output(), HBox(children=(Text(value='0,40,60,70,100', continuous_update=False, description='Cla…"
      ]
     },
     "metadata": {},
     "output_type": "display_data"
    }
   ],
   "source": [
    "plot_hist_widget(data_loc = 'assets/marks.csv', class_init = '0,40,60,70,100',x_label = 'Final Grades',\n",
    "                 title = 'Histogram of grades by classification' )"
   ]
  },
  {
   "cell_type": "markdown",
   "id": "af3d6369",
   "metadata": {},
   "source": [
    "#### throw_dice_widget\n",
    "\n",
    "Plots a bar chart for frequencies of N throws of 3 different dice, only one of which is fair. Useful for showing how slowly empirical frequencies converge to probabilities."
   ]
  },
  {
   "cell_type": "code",
   "execution_count": 27,
   "id": "1477bca2",
   "metadata": {},
   "outputs": [
    {
     "data": {
      "application/vnd.jupyter.widget-view+json": {
       "model_id": "ff5178a763d54a4aba65b16cacdfadc0",
       "version_major": 2,
       "version_minor": 0
      },
      "text/plain": [
       "VBox(children=(Output(), HBox(children=(Dropdown(description='Pick a dice:', options=(1, 2, 3), value=1), IntT…"
      ]
     },
     "metadata": {},
     "output_type": "display_data"
    }
   ],
   "source": [
    "throw_dice_widget(1,100) # (a,b) -> Throw dice a b times. 3 dice available"
   ]
  },
  {
   "cell_type": "markdown",
   "id": "1721e0cb",
   "metadata": {},
   "source": [
    "#### tree_widget\n",
    "\n",
    "Shows a tree representatinon of sequential events, useful for explaining Bayes rule in a practical setting, where we want the probability ofthe first event having only observed the second."
   ]
  },
  {
   "cell_type": "code",
   "execution_count": 28,
   "id": "852c3cb8",
   "metadata": {
    "scrolled": true
   },
   "outputs": [
    {
     "data": {
      "application/vnd.jupyter.widget-view+json": {
       "model_id": "f383bdac2f9b4f5e9e7bf2afe4bedcb1",
       "version_major": 2,
       "version_minor": 0
      },
      "text/plain": [
       "VBox(children=(Output(), HBox(children=(Text(value=\"[ ['S','H',0.001] , ['P','N',[0.99,0.01]] ]\", continuous_u…"
      ]
     },
     "metadata": {},
     "output_type": "display_data"
    }
   ],
   "source": [
    "tree_widget(\"[ ['S','H',0.001] , ['P','N',[0.99,0.01]] ]\", popSize_init = 1000000)"
   ]
  },
  {
   "cell_type": "markdown",
   "id": "ef2b392b",
   "metadata": {},
   "source": [
    "#### birthday_widget\n",
    "\n",
    "Shows a visual representatinon of the birthday problem, i.e. the probability that a in group of people no birthday is shared. This probability falls to 0 much faster than one might naively expect (k=23 already gives you a 50/50 chance)."
   ]
  },
  {
   "cell_type": "code",
   "execution_count": 29,
   "id": "cd036a25",
   "metadata": {
    "scrolled": false
   },
   "outputs": [
    {
     "data": {
      "application/vnd.jupyter.widget-view+json": {
       "model_id": "fbbf31dc54924645b068d2241ff4b5c8",
       "version_major": 2,
       "version_minor": 0
      },
      "text/plain": [
       "VBox(children=(Output(), HBox(children=(IntText(value=19, description='Size of group:'),))))"
      ]
     },
     "metadata": {},
     "output_type": "display_data"
    }
   ],
   "source": [
    "birthday_widget(k_init=19)"
   ]
  },
  {
   "cell_type": "markdown",
   "id": "505fb72a",
   "metadata": {},
   "source": [
    "#### norm_area_widget\n",
    "\n",
    "Shows how to calculate probabilities for a normally-distributed variate as areas under the pdf of an arbitrary normal distribution. Setting `mu_init = 0` and `sig2_init = 1` provides a standard normal."
   ]
  },
  {
   "cell_type": "code",
   "execution_count": 30,
   "id": "5a57e790",
   "metadata": {
    "scrolled": false
   },
   "outputs": [
    {
     "data": {
      "application/vnd.jupyter.widget-view+json": {
       "model_id": "c7fc41d44f7d4684b1e78a6dfbdd2600",
       "version_major": 2,
       "version_minor": 0
      },
      "text/plain": [
       "VBox(children=(Output(), HBox(children=(FloatText(value=60.0, description='Mean:'), FloatText(value=49.0, desc…"
      ]
     },
     "metadata": {},
     "output_type": "display_data"
    }
   ],
   "source": [
    "norm_area_widget(mu_init=60, sig2_init=49, X_cond_init = '49 < X < 51')"
   ]
  },
  {
   "cell_type": "markdown",
   "id": "769d3494",
   "metadata": {},
   "source": [
    "#### norm_binom_approx_widget\n",
    "\n",
    "Illustrates the convergence of the binomial distribution $B(n,p)$ to a normal distribution $N(np,np(1-p))$ for large $n$."
   ]
  },
  {
   "cell_type": "code",
   "execution_count": 31,
   "id": "05ef6a29",
   "metadata": {},
   "outputs": [
    {
     "data": {
      "application/vnd.jupyter.widget-view+json": {
       "model_id": "54f2c29ece2b4802aa82d1c34b66f74e",
       "version_major": 2,
       "version_minor": 0
      },
      "text/plain": [
       "VBox(children=(Output(), HBox(children=(IntText(value=15, description='$n$:'), FloatText(value=0.4, descriptio…"
      ]
     },
     "metadata": {},
     "output_type": "display_data"
    }
   ],
   "source": [
    "norm_binom_approx_widget(n_init = 15, p_init = 0.4, show_norm_init = True)"
   ]
  },
  {
   "cell_type": "markdown",
   "id": "a41b5e73",
   "metadata": {},
   "source": [
    "#### clt_illustration_widget\n",
    "\n",
    "Illustrates the central limit theorem by calculating the mean or sum of $N$ samples of size $n$ taken from a candidate distribution. The candidate is plotted on the left, the MC frequencies/theoretical Normal distribution is plotted on the right."
   ]
  },
  {
   "cell_type": "code",
   "execution_count": 32,
   "id": "dc0064d2",
   "metadata": {
    "scrolled": true
   },
   "outputs": [
    {
     "data": {
      "application/vnd.jupyter.widget-view+json": {
       "model_id": "7d05fd1f752b4d49af9a728d80fd8b4f",
       "version_major": 2,
       "version_minor": 0
      },
      "text/plain": [
       "VBox(children=(Output(), HBox(children=(Dropdown(description='Distribution:', index=2, options=('Uniform', 'Be…"
      ]
     },
     "metadata": {},
     "output_type": "display_data"
    }
   ],
   "source": [
    "clt_illustration_widget(dist_init = 'Exponential', p1_init = 0.1, p2_init = 0, \n",
    "                        n_init=100, N_init = 10000, normalise_init = True)"
   ]
  },
  {
   "cell_type": "markdown",
   "id": "ac1aac6e",
   "metadata": {},
   "source": [
    "#### clt_illustration_widget\n",
    "\n",
    "Illustrates the central limit theorem by calculating the mean or sum of $N$ samples of size $n$ taken from a candidate distribution. The candidate is plotted on the left, the MC frequencies/theoretical Normal distribution are plotted on the right."
   ]
  },
  {
   "cell_type": "code",
   "execution_count": 33,
   "id": "60323aac",
   "metadata": {
    "scrolled": true
   },
   "outputs": [
    {
     "data": {
      "application/vnd.jupyter.widget-view+json": {
       "model_id": "ccf4667731004ca5b30f59d1d185c12f",
       "version_major": 2,
       "version_minor": 0
      },
      "text/plain": [
       "VBox(children=(Output(), HBox(children=(Dropdown(description='Distribution:', index=2, options=('Uniform', 'Be…"
      ]
     },
     "metadata": {},
     "output_type": "display_data"
    }
   ],
   "source": [
    "clt_illustration_widget(dist_init = 'Exponential', p1_init = 0.1, p2_init = 0, \n",
    "                        n_init=100, N_init = 10000, normalise_init = True)"
   ]
  },
  {
   "cell_type": "markdown",
   "id": "479de8bd",
   "metadata": {},
   "source": [
    "#### bias_variance_widget\n",
    "\n",
    "Illustrates the differences in bias/variance provided by various estimators of the sample mean, by calculating the mean and median of $N$ samples of size $n$ taken from a candidate distribution. The candidate is plotted on the left, the MC frequenciesare plotted on the right."
   ]
  },
  {
   "cell_type": "code",
   "execution_count": 34,
   "id": "4e38e09c",
   "metadata": {
    "scrolled": true
   },
   "outputs": [
    {
     "data": {
      "application/vnd.jupyter.widget-view+json": {
       "model_id": "c000eff7db574c9cac342fb72389dcdc",
       "version_major": 2,
       "version_minor": 0
      },
      "text/plain": [
       "VBox(children=(Output(), HBox(children=(Dropdown(description='Distribution:', index=3, options=('Uniform', 'Be…"
      ]
     },
     "metadata": {},
     "output_type": "display_data"
    }
   ],
   "source": [
    "bias_variance_widget(dist_init = 'Normal', p1_init = 50, p2_init = 25, n_init=10, N_init = 20000)"
   ]
  },
  {
   "cell_type": "markdown",
   "id": "76b41667",
   "metadata": {},
   "source": [
    "#### t_area_widget\n",
    "\n",
    "Shows the probabilities provided by a Student's T distribution compared to standard normal for a given sample size $n$ and Z-score. Useful for showing how standard normal confidence intervals are overconfident in small samples."
   ]
  },
  {
   "cell_type": "code",
   "execution_count": 35,
   "id": "ad006036",
   "metadata": {
    "scrolled": false
   },
   "outputs": [
    {
     "data": {
      "application/vnd.jupyter.widget-view+json": {
       "model_id": "3e030bdf097040ee80caf2b34b2f91c0",
       "version_major": 2,
       "version_minor": 0
      },
      "text/plain": [
       "VBox(children=(Output(), HBox(children=(FloatText(value=3.0, description='D.O.F. :'), Text(value='-1.96 < Z < …"
      ]
     },
     "metadata": {},
     "output_type": "display_data"
    }
   ],
   "source": [
    "t_area_widget(nu_init=3, frmt_init='b-', X_cond_init = '-1.96 < Z < 1.96')"
   ]
  },
  {
   "cell_type": "markdown",
   "id": "b95c6511",
   "metadata": {},
   "source": [
    "#### hypothesis_test_widget\n",
    "\n",
    "Plots the accept/reject regions and decision information for a hypothesis test given the sampling distribution and the alternate hypothesis. Provides test statistic and critical value, can handle one/two tailed tests and automatically uses the student T if $n<30$."
   ]
  },
  {
   "cell_type": "code",
   "execution_count": 36,
   "id": "df5b8c91",
   "metadata": {
    "scrolled": true
   },
   "outputs": [
    {
     "data": {
      "application/vnd.jupyter.widget-view+json": {
       "model_id": "94b6b348669e4255b54eb4662938dc64",
       "version_major": 2,
       "version_minor": 0
      },
      "text/plain": [
       "VBox(children=(Output(), HBox(children=(IntText(value=8, description='n : '), FloatText(value=105.0, descripti…"
      ]
     },
     "metadata": {},
     "output_type": "display_data"
    }
   ],
   "source": [
    "hypothesis_test_widget(n_init = 8, H0_init=120, Xbar_init=105, sig2_init=16**2, \n",
    "                           tails_init='mu ~= 120', alpha_init = 0.95, t_init=False)"
   ]
  },
  {
   "cell_type": "markdown",
   "id": "fe681135",
   "metadata": {},
   "source": [
    "#### error_type_widget\n",
    "Basic illustration of type I and type II errors based on a noisy scatter plot. Helpful to illustrate (a) the origin of theypeI/II errors when uncertainty is present and (b) that changing the decision threshold to reduce one type of error MUST increase the other type of error."
   ]
  },
  {
   "cell_type": "code",
   "execution_count": 37,
   "id": "351541ba",
   "metadata": {
    "scrolled": false
   },
   "outputs": [
    {
     "data": {
      "application/vnd.jupyter.widget-view+json": {
       "model_id": "44a8c0a7122044cfa1e2b20f875039af",
       "version_major": 2,
       "version_minor": 0
      },
      "text/plain": [
       "VBox(children=(Output(), HBox(children=(FloatText(value=0.25, description='Noise:'), FloatText(value=0.0, desc…"
      ]
     },
     "metadata": {},
     "output_type": "display_data"
    }
   ],
   "source": [
    "error_type_widget(noise_init = 0.25, gap_init = 0, threshold_init = 0.2, N_init = 5000)"
   ]
  },
  {
   "cell_type": "markdown",
   "id": "55863985",
   "metadata": {},
   "source": [
    "#### error_tradeoff_widget\n",
    "\n",
    "A more traditional illustration of typeI/II error trade-offs. Note that this widget illustrates the tradeoff for one-tailed tests as well as two tailed, especially the fact that when picking a one-tailed test the extra power in the test comes at the cost of a **total** loss of power in the direction we assume cannot happen."
   ]
  },
  {
   "cell_type": "code",
   "execution_count": 38,
   "id": "86464a00",
   "metadata": {
    "scrolled": false
   },
   "outputs": [
    {
     "data": {
      "application/vnd.jupyter.widget-view+json": {
       "model_id": "eb1cb093ea6f4a1cba847c44af4962e6",
       "version_major": 2,
       "version_minor": 0
      },
      "text/plain": [
       "VBox(children=(Output(), HBox(children=(FloatText(value=0.0, description='$H_0$:'), FloatText(value=3.0, descr…"
      ]
     },
     "metadata": {},
     "output_type": "display_data"
    }
   ],
   "source": [
    "error_tradeoff_widget(muH0_init = 0, muH1_init=3, muH2_init=0, sig2_init=1, \n",
    "                           Zcrit_init = 1.645, useH2_init = False, twotail_init=False)"
   ]
  },
  {
   "cell_type": "code",
   "execution_count": 39,
   "id": "519de5ec",
   "metadata": {
    "scrolled": true
   },
   "outputs": [
    {
     "data": {
      "application/vnd.jupyter.widget-view+json": {
       "model_id": "ae65592fd84742ed8210cca66fae135b",
       "version_major": 2,
       "version_minor": 0
      },
      "text/plain": [
       "VBox(children=(Output(), HBox(children=(FloatText(value=0.0, description='$H_0$:'), FloatText(value=3.0, descr…"
      ]
     },
     "metadata": {},
     "output_type": "display_data"
    }
   ],
   "source": [
    "error_tradeoff_widget(muH0_init = 0, muH1_init=3, muH2_init=-3.5, sig2_init=1, \n",
    "                           Zcrit_init = 1.96, useH2_init = True, twotail_init=True)"
   ]
  },
  {
   "cell_type": "markdown",
   "id": "77b6820b",
   "metadata": {},
   "source": [
    "#### scatter_plot_widget\n",
    "\n",
    "Bivariate scatter plot, accepts list of numpy vectors (with option to add normaql noise) or a path to a csv file. Options include display of the correlation and its significance, and a regression line with manual or automatic OLS parameters."
   ]
  },
  {
   "cell_type": "code",
   "execution_count": 40,
   "id": "39ada8d8",
   "metadata": {
    "scrolled": false
   },
   "outputs": [
    {
     "data": {
      "application/vnd.jupyter.widget-view+json": {
       "model_id": "5fa3f71357414412bd6a69226cc74a0f",
       "version_major": 2,
       "version_minor": 0
      },
      "text/plain": [
       "VBox(children=(Output(), HBox(children=(FloatText(value=0.1, description='Extra noise:'), Dropdown(description…"
      ]
     },
     "metadata": {},
     "output_type": "display_data"
    }
   ],
   "source": [
    "X = np.random.rand(500)\n",
    "scatter_plot_widget(data = [X,-0.5*X], add_noise_init = 0.1, x_label = r'Variable $X$', y_label = r'Variable $Y$',\n",
    "                    rho_init = True, regr_init=True, ols_init = True)"
   ]
  },
  {
   "cell_type": "code",
   "execution_count": null,
   "id": "c23f70e5",
   "metadata": {},
   "outputs": [],
   "source": []
  }
 ],
 "metadata": {
  "kernelspec": {
   "display_name": "Python 3 (ipykernel)",
   "language": "python",
   "name": "python3"
  },
  "language_info": {
   "codemirror_mode": {
    "name": "ipython",
    "version": 3
   },
   "file_extension": ".py",
   "mimetype": "text/x-python",
   "name": "python",
   "nbconvert_exporter": "python",
   "pygments_lexer": "ipython3",
   "version": "3.11.4"
  },
  "widgets": {
   "application/vnd.jupyter.widget-state+json": {
    "state": {},
    "version_major": 2,
    "version_minor": 0
   }
  }
 },
 "nbformat": 4,
 "nbformat_minor": 5
}
